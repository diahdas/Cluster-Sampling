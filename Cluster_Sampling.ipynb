{
  "nbformat": 4,
  "nbformat_minor": 0,
  "metadata": {
    "colab": {
      "provenance": []
    },
    "kernelspec": {
      "name": "python3",
      "display_name": "Python 3"
    },
    "language_info": {
      "name": "python"
    }
  },
  "cells": [
    {
      "cell_type": "code",
      "execution_count": 1,
      "metadata": {
        "id": "sNSuXpfsi7dl"
      },
      "outputs": [],
      "source": [
        "import pandas as pd\n",
        "import numpy as np"
      ]
    },
    {
      "cell_type": "code",
      "source": [
        "# calculate sampling size cluster sampling\n",
        "def cluster_sampling_size(N, B, var):\n",
        "    D = (B*B)/(4*N*N)\n",
        "    n = (N*var)/(N*D+var)\n",
        "    return n\n",
        "# calculate sampling size cluster sampling\n",
        "\n",
        "# proportion estimation\n",
        "def proportion_est(a,n):\n",
        "    p = a/n\n",
        "    return p\n",
        "\n",
        "# total population\n",
        "def total_population(N,p):\n",
        "    T=N*p\n",
        "    return T"
      ],
      "metadata": {
        "id": "b3wpXxK0i_fR"
      },
      "execution_count": 2,
      "outputs": []
    },
    {
      "cell_type": "code",
      "source": [],
      "metadata": {
        "id": "RxD9_FQfjjUk"
      },
      "execution_count": null,
      "outputs": []
    }
  ]
}